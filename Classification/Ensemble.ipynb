{
 "metadata": {
  "language_info": {
   "codemirror_mode": {
    "name": "ipython",
    "version": 3
   },
   "file_extension": ".py",
   "mimetype": "text/x-python",
   "name": "python",
   "nbconvert_exporter": "python",
   "pygments_lexer": "ipython3",
   "version": "3.8.10"
  },
  "orig_nbformat": 4,
  "kernelspec": {
   "name": "python3",
   "display_name": "Python 3.8.10 64-bit ('base': conda)"
  },
  "interpreter": {
   "hash": "c81169c30fb96244cfba0db287a0d3fd5325268de070a7a6116eecd4596df902"
  }
 },
 "nbformat": 4,
 "nbformat_minor": 2,
 "cells": [
  {
   "cell_type": "code",
   "execution_count": 1,
   "metadata": {},
   "outputs": [],
   "source": [
    "# 앙상블 학습"
   ]
  },
  {
   "cell_type": "code",
   "execution_count": 2,
   "metadata": {},
   "outputs": [],
   "source": [
    "from sklearn.datasets import load_breast_cancer\n",
    "cancer = load_breast_cancer()"
   ]
  },
  {
   "cell_type": "code",
   "execution_count": 3,
   "metadata": {},
   "outputs": [],
   "source": [
    "from sklearn.preprocessing import MinMaxScaler\n",
    "scaler = MinMaxScaler()\n",
    "cancer_scaled = scaler.fit_transform(cancer.data)"
   ]
  },
  {
   "cell_type": "code",
   "execution_count": 20,
   "metadata": {},
   "outputs": [],
   "source": [
    "from sklearn.model_selection import train_test_split\n",
    "X_train,X_test,y_train,y_test = train_test_split(\n",
    "    cancer_scaled, cancer.target, stratify=cancer.target, test_size=0.2, random_state=2011 \n",
    ")"
   ]
  },
  {
   "source": [
    "### 앙상블 학습을 위한 분류기\n",
    "\n",
    "- 로지스틱 회귀\n",
    "- 서포트 백터 머신\n",
    "- k 최근접 아웃"
   ],
   "cell_type": "markdown",
   "metadata": {}
  },
  {
   "cell_type": "code",
   "execution_count": 21,
   "metadata": {},
   "outputs": [],
   "source": [
    "from sklearn.linear_model import LogisticRegression\n",
    "from sklearn.svm import SVC\n",
    "from sklearn.neighbors import KNeighborsClassifier"
   ]
  },
  {
   "cell_type": "code",
   "execution_count": 22,
   "metadata": {},
   "outputs": [],
   "source": [
    "lr = LogisticRegression()\n",
    "svc = SVC()\n",
    "knn = KNeighborsClassifier()"
   ]
  },
  {
   "cell_type": "code",
   "execution_count": 23,
   "metadata": {},
   "outputs": [],
   "source": [
    "from sklearn.ensemble import VotingClassifier\n",
    "\n",
    "vo_clf = VotingClassifier(\n",
    "    estimators=[('LR', lr),('SVC', svc),('KNN', knn)],\n",
    "    voting='hard'\n",
    ")"
   ]
  },
  {
   "cell_type": "code",
   "execution_count": 24,
   "metadata": {},
   "outputs": [],
   "source": [
    "vo_clf.fit(X_train, y_train)\n",
    "pred = vo_clf.predict(X_test)"
   ]
  },
  {
   "cell_type": "code",
   "execution_count": 25,
   "metadata": {},
   "outputs": [
    {
     "output_type": "execute_result",
     "data": {
      "text/plain": [
       "0.956140350877193"
      ]
     },
     "metadata": {},
     "execution_count": 25
    }
   ],
   "source": [
    "from sklearn.metrics import accuracy_score\n",
    "accuracy_score(y_test, pred)"
   ]
  },
  {
   "source": [
    "### 개별 모델의 학습/예측/평가"
   ],
   "cell_type": "markdown",
   "metadata": {}
  },
  {
   "cell_type": "code",
   "execution_count": 26,
   "metadata": {},
   "outputs": [
    {
     "output_type": "stream",
     "name": "stdout",
     "text": [
      "LogisticRegression 정확도:  0.938596\nSVC 정확도:  0.964912\nKNeighborsClassifier 정확도:  0.956140\n"
     ]
    }
   ],
   "source": [
    "for classifier in [lr, svc, knn]:\n",
    "    classifier.fit(X_train, y_train)\n",
    "    pred = classifier.predict(X_test)\n",
    "    acc = accuracy_score(y_test, pred)\n",
    "    classifier_name = classifier.__class__.__name__\n",
    "    print(f'{classifier_name} 정확도: {acc: 4f}')"
   ]
  },
  {
   "source": [
    "### 소프트 보팅\n",
    "- 로지스틱 회귀\n",
    "- k 최근접 아웃 "
   ],
   "cell_type": "markdown",
   "metadata": {}
  },
  {
   "cell_type": "code",
   "execution_count": 27,
   "metadata": {},
   "outputs": [
    {
     "output_type": "execute_result",
     "data": {
      "text/plain": [
       "0.956140350877193"
      ]
     },
     "metadata": {},
     "execution_count": 27
    }
   ],
   "source": [
    "vo_clf = VotingClassifier(\n",
    "    estimators=[('LR', lr),('KNN', knn)],\n",
    "    voting='soft'\n",
    ")\n",
    "\n",
    "vo_clf.fit(X_train, y_train)\n",
    "pred = vo_clf.predict(X_test)\n",
    "accuracy_score(y_test, pred)"
   ]
  },
  {
   "cell_type": "code",
   "execution_count": 28,
   "metadata": {},
   "outputs": [
    {
     "output_type": "execute_result",
     "data": {
      "text/plain": [
       "array([[9.93299003e-01, 6.70099726e-03],\n",
       "       [9.97860114e-01, 2.13988594e-03],\n",
       "       [1.55035222e-02, 9.84496478e-01],\n",
       "       [2.11048802e-02, 9.78895120e-01],\n",
       "       [9.74826742e-01, 2.51732577e-02],\n",
       "       [1.18101174e-01, 8.81898826e-01],\n",
       "       [1.83346646e-02, 9.81665335e-01],\n",
       "       [1.72260326e-03, 9.98277397e-01],\n",
       "       [4.17790994e-02, 9.58220901e-01],\n",
       "       [4.57872746e-02, 9.54212725e-01],\n",
       "       [2.50799952e-02, 9.74920005e-01],\n",
       "       [2.98787609e-02, 9.70121239e-01],\n",
       "       [2.25234183e-03, 9.97747658e-01],\n",
       "       [7.50971304e-01, 2.49028696e-01],\n",
       "       [9.21979440e-03, 9.90780206e-01],\n",
       "       [9.83839355e-01, 1.61606449e-02],\n",
       "       [2.83304790e-03, 9.97166952e-01],\n",
       "       [1.06895121e-01, 8.93104879e-01],\n",
       "       [6.41086893e-01, 3.58913107e-01],\n",
       "       [1.63905669e-02, 9.83609433e-01],\n",
       "       [9.52456926e-01, 4.75430742e-02],\n",
       "       [6.88063781e-01, 3.11936219e-01],\n",
       "       [9.98353441e-01, 1.64655883e-03],\n",
       "       [2.82023149e-01, 7.17976851e-01],\n",
       "       [1.40217651e-02, 9.85978235e-01],\n",
       "       [2.68956392e-02, 9.73104361e-01],\n",
       "       [2.03611323e-01, 7.96388677e-01],\n",
       "       [6.99116442e-04, 9.99300884e-01],\n",
       "       [9.99939121e-01, 6.08786095e-05],\n",
       "       [2.64896418e-03, 9.97351036e-01],\n",
       "       [2.36901818e-02, 9.76309818e-01],\n",
       "       [4.04567406e-03, 9.95954326e-01],\n",
       "       [2.46891939e-02, 9.75310806e-01],\n",
       "       [9.99657326e-01, 3.42674312e-04],\n",
       "       [6.96622136e-02, 9.30337786e-01],\n",
       "       [2.59340512e-02, 9.74065949e-01],\n",
       "       [2.27326228e-01, 7.72673772e-01],\n",
       "       [8.65664574e-01, 1.34335426e-01],\n",
       "       [9.17509836e-03, 9.90824902e-01],\n",
       "       [3.83861605e-02, 9.61613839e-01],\n",
       "       [8.11297936e-04, 9.99188702e-01],\n",
       "       [3.03329719e-02, 9.69667028e-01],\n",
       "       [8.90457370e-01, 1.09542630e-01],\n",
       "       [3.42767187e-03, 9.96572328e-01],\n",
       "       [9.99896117e-01, 1.03883308e-04],\n",
       "       [8.99824604e-01, 1.00175396e-01],\n",
       "       [1.42270945e-01, 8.57729055e-01],\n",
       "       [1.10060482e-02, 9.88993952e-01],\n",
       "       [9.33321484e-01, 6.66785159e-02],\n",
       "       [9.99122977e-01, 8.77023377e-04],\n",
       "       [1.33088358e-01, 8.66911642e-01],\n",
       "       [1.37011901e-03, 9.98629881e-01],\n",
       "       [9.97170928e-01, 2.82907249e-03],\n",
       "       [9.55665048e-01, 4.43349517e-02],\n",
       "       [5.37916802e-01, 4.62083198e-01],\n",
       "       [6.82973471e-02, 9.31702653e-01],\n",
       "       [1.20451850e-01, 8.79548150e-01],\n",
       "       [3.00410990e-01, 6.99589010e-01],\n",
       "       [3.17567888e-03, 9.96824321e-01],\n",
       "       [1.84398308e-01, 8.15601692e-01],\n",
       "       [3.85191675e-03, 9.96148083e-01],\n",
       "       [9.88125996e-01, 1.18740040e-02],\n",
       "       [6.05366975e-03, 9.93946330e-01],\n",
       "       [9.97653455e-01, 2.34654523e-03],\n",
       "       [9.94243846e-01, 5.75615392e-03],\n",
       "       [4.56683044e-02, 9.54331696e-01],\n",
       "       [5.71557207e-03, 9.94284428e-01],\n",
       "       [2.23779880e-02, 9.77622012e-01],\n",
       "       [1.61468617e-02, 9.83853138e-01],\n",
       "       [1.82567371e-02, 9.81743263e-01],\n",
       "       [9.99285102e-01, 7.14898279e-04],\n",
       "       [4.22270734e-02, 9.57772927e-01],\n",
       "       [9.86799347e-01, 1.32006526e-02],\n",
       "       [1.53663222e-01, 8.46336778e-01],\n",
       "       [9.97292100e-01, 2.70790018e-03],\n",
       "       [2.06753865e-01, 7.93246135e-01],\n",
       "       [8.88992085e-02, 9.11100792e-01],\n",
       "       [1.05841229e-01, 8.94158771e-01],\n",
       "       [3.68471727e-03, 9.96315283e-01],\n",
       "       [9.96055424e-01, 3.94457610e-03],\n",
       "       [9.87765675e-01, 1.22343246e-02],\n",
       "       [9.94639399e-01, 5.36060056e-03],\n",
       "       [2.05832875e-02, 9.79416713e-01],\n",
       "       [2.81053240e-02, 9.71894676e-01],\n",
       "       [8.09243870e-03, 9.91907561e-01],\n",
       "       [4.21261684e-02, 9.57873832e-01],\n",
       "       [2.71104264e-02, 9.72889574e-01],\n",
       "       [8.74644555e-02, 9.12535544e-01],\n",
       "       [1.02338119e-01, 8.97661881e-01],\n",
       "       [2.01543043e-02, 9.79845696e-01],\n",
       "       [1.61081117e-02, 9.83891888e-01],\n",
       "       [9.89253669e-01, 1.07463309e-02],\n",
       "       [7.14193046e-02, 9.28580695e-01],\n",
       "       [4.06606198e-01, 5.93393802e-01],\n",
       "       [2.30959947e-02, 9.76904005e-01],\n",
       "       [7.96516837e-01, 2.03483163e-01],\n",
       "       [1.05088266e-02, 9.89491173e-01],\n",
       "       [2.49309158e-02, 9.75069084e-01],\n",
       "       [4.43465519e-03, 9.95565345e-01],\n",
       "       [9.51942463e-01, 4.80575367e-02],\n",
       "       [1.00505506e-02, 9.89949449e-01],\n",
       "       [6.81246625e-01, 3.18753375e-01],\n",
       "       [3.74391082e-02, 9.62560892e-01],\n",
       "       [4.50740826e-03, 9.95492592e-01],\n",
       "       [2.40346194e-01, 7.59653806e-01],\n",
       "       [8.11789249e-01, 1.88210751e-01],\n",
       "       [9.99989866e-01, 1.01340556e-05],\n",
       "       [2.40248848e-02, 9.75975115e-01],\n",
       "       [3.15748250e-02, 9.68425175e-01],\n",
       "       [9.97393622e-01, 2.60637752e-03],\n",
       "       [1.64254430e-01, 8.35745570e-01],\n",
       "       [2.13701211e-02, 9.78629879e-01],\n",
       "       [1.16642425e-02, 9.88335758e-01],\n",
       "       [9.99910827e-01, 8.91728827e-05]])"
      ]
     },
     "metadata": {},
     "execution_count": 28
    }
   ],
   "source": [
    "vo_clf.predict_proba(X_test)"
   ]
  }
 ]
}
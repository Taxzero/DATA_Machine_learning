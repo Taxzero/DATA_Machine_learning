{
 "metadata": {
  "language_info": {
   "codemirror_mode": {
    "name": "ipython",
    "version": 3
   },
   "file_extension": ".py",
   "mimetype": "text/x-python",
   "name": "python",
   "nbconvert_exporter": "python",
   "pygments_lexer": "ipython3",
   "version": "3.8.10"
  },
  "orig_nbformat": 4,
  "kernelspec": {
   "name": "python3",
   "display_name": "Python 3.8.10 64-bit ('base': conda)"
  },
  "interpreter": {
   "hash": "c81169c30fb96244cfba0db287a0d3fd5325268de070a7a6116eecd4596df902"
  }
 },
 "nbformat": 4,
 "nbformat_minor": 2,
 "cells": [
  {
   "source": [
    "# 2021.06.21 TEST"
   ],
   "cell_type": "markdown",
   "metadata": {}
  },
  {
   "cell_type": "code",
   "execution_count": 125,
   "metadata": {},
   "outputs": [],
   "source": [
    "from sklearn.datasets import load_digits\n",
    "digits = load_digits()"
   ]
  },
  {
   "cell_type": "code",
   "execution_count": 126,
   "metadata": {},
   "outputs": [],
   "source": [
    "from sklearn.preprocessing import MinMaxScaler\n",
    "scaler = MinMaxScaler()\n",
    "digits_scaled = scaler.fit_transform(digits.data)"
   ]
  },
  {
   "cell_type": "code",
   "execution_count": 127,
   "metadata": {},
   "outputs": [],
   "source": [
    "from sklearn.model_selection import train_test_split\n",
    "X_train,X_test,y_train,y_test = train_test_split(\n",
    "    digits_scaled, digits.target, stratify=digits.target, test_size=0.2, random_state=2021\n",
    ")"
   ]
  },
  {
   "cell_type": "code",
   "execution_count": 128,
   "metadata": {},
   "outputs": [],
   "source": [
    "from sklearn.ensemble import RandomForestClassifier\n",
    "from sklearn.metrics import accuracy_score"
   ]
  },
  {
   "cell_type": "code",
   "execution_count": 129,
   "metadata": {},
   "outputs": [
    {
     "output_type": "stream",
     "name": "stdout",
     "text": [
      "RandomForest: 0.9611111111111111\n"
     ]
    }
   ],
   "source": [
    "rf_clf = RandomForestClassifier(random_state=2021)\n",
    "rf_clf.fit(X_train, y_train)\n",
    "pred = rf_clf.predict(X_test)\n",
    "print('RandomForest:', accuracy_score(y_test, pred))"
   ]
  },
  {
   "cell_type": "code",
   "execution_count": 84,
   "metadata": {},
   "outputs": [],
   "source": [
    "from sklearn.linear_model import LogisticRegression\n",
    "from sklearn.svm import SVC\n",
    "from sklearn.neighbors import KNeighborsClassifier"
   ]
  },
  {
   "cell_type": "code",
   "execution_count": 85,
   "metadata": {},
   "outputs": [],
   "source": [
    "lr = LogisticRegression(max_iter=1000)\n",
    "svc = SVC()\n",
    "knn = KNeighborsClassifier()"
   ]
  },
  {
   "cell_type": "code",
   "execution_count": 122,
   "metadata": {},
   "outputs": [
    {
     "output_type": "stream",
     "name": "stdout",
     "text": [
      "Softvoting: 0.9833333333333333\n"
     ]
    }
   ],
   "source": [
    "from sklearn.ensemble import VotingClassifier\n",
    "\n",
    "vo_clf = VotingClassifier(\n",
    "    estimators=[('LR', lr),('KNN', knn)],\n",
    "    voting='soft'\n",
    ")\n",
    "\n",
    "X_train, X_test, y_train, y_test = train_test_split(digits_scaled, digits.target, test_size=0.2 , random_state= 2021)\n",
    "\n",
    "vo_clf.fit(X_train, y_train)\n",
    "pred = vo_clf.predict(X_test)\n",
    "print('Softvoting:', accuracy_score(y_test, pred))"
   ]
  },
  {
   "cell_type": "code",
   "execution_count": 87,
   "metadata": {},
   "outputs": [
    {
     "output_type": "execute_result",
     "data": {
      "text/plain": [
       "array([[7.78919674e-04, 7.16434930e-02, 1.02903731e-01, ...,\n",
       "        3.48362590e-04, 7.76007714e-01, 2.10624134e-03],\n",
       "       [5.24652393e-05, 2.95838989e-04, 9.96992461e-01, ...,\n",
       "        1.97175820e-04, 2.41623741e-05, 3.71923643e-05],\n",
       "       [4.72807380e-06, 9.43031152e-04, 9.97769133e-01, ...,\n",
       "        9.47783727e-06, 5.60904795e-05, 4.54779212e-06],\n",
       "       ...,\n",
       "       [2.18254695e-02, 5.43741876e-02, 2.85805627e-03, ...,\n",
       "        1.83581489e-03, 3.06946834e-01, 1.32619476e-01],\n",
       "       [4.34001915e-03, 1.42664129e-04, 4.37071979e-06, ...,\n",
       "        6.26017303e-03, 1.38088163e-03, 2.21712467e-02],\n",
       "       [9.96682472e-01, 4.07147166e-07, 7.24212528e-04, ...,\n",
       "        4.01580670e-05, 5.47250437e-04, 9.18307154e-04]])"
      ]
     },
     "metadata": {},
     "execution_count": 87
    }
   ],
   "source": [
    "vo_clf.predict_proba(X_test)"
   ]
  },
  {
   "cell_type": "code",
   "execution_count": 123,
   "metadata": {},
   "outputs": [
    {
     "output_type": "stream",
     "name": "stdout",
     "text": [
      "Hardvoting: 0.9777777777777777\n"
     ]
    }
   ],
   "source": [
    "from sklearn.ensemble import VotingClassifier\n",
    "\n",
    "vo_clf = VotingClassifier(\n",
    "    estimators=[('LR', lr),('SVC', svc),('KNN', knn)],\n",
    "    voting='hard'\n",
    ")\n",
    "\n",
    "X_train, X_test, y_train, y_test = train_test_split(digits_scaled, digits.target, test_size=0.2 , random_state= 2021)\n",
    "\n",
    "vo_clf.fit(X_train, y_train)\n",
    "pred = vo_clf.predict(X_test)\n",
    "print('Hardvoting:', accuracy_score(y_test, pred))"
   ]
  },
  {
   "cell_type": "code",
   "execution_count": 89,
   "metadata": {},
   "outputs": [
    {
     "output_type": "execute_result",
     "data": {
      "text/plain": [
       "{'C': 1.0,\n",
       " 'break_ties': False,\n",
       " 'cache_size': 200,\n",
       " 'class_weight': None,\n",
       " 'coef0': 0.0,\n",
       " 'decision_function_shape': 'ovr',\n",
       " 'degree': 3,\n",
       " 'gamma': 'scale',\n",
       " 'kernel': 'rbf',\n",
       " 'max_iter': -1,\n",
       " 'probability': False,\n",
       " 'random_state': None,\n",
       " 'shrinking': True,\n",
       " 'tol': 0.001,\n",
       " 'verbose': False}"
      ]
     },
     "metadata": {},
     "execution_count": 89
    }
   ],
   "source": [
    "svc.get_params()"
   ]
  },
  {
   "cell_type": "code",
   "execution_count": 146,
   "metadata": {},
   "outputs": [],
   "source": [
    "params = {'C': [1,2,3,3.1,3.2,3.3,3.4,4,5,6,7,8,9,10]}"
   ]
  },
  {
   "cell_type": "code",
   "execution_count": 147,
   "metadata": {},
   "outputs": [],
   "source": [
    "from sklearn.model_selection import GridSearchCV"
   ]
  },
  {
   "cell_type": "code",
   "execution_count": 148,
   "metadata": {},
   "outputs": [
    {
     "output_type": "execute_result",
     "data": {
      "text/plain": [
       "GridSearchCV(cv=2, estimator=SVC(),\n",
       "             param_grid={'C': [1, 2, 3, 3.1, 3.2, 3.3, 3.4, 4, 5, 6, 7, 8, 9,\n",
       "                               10]},\n",
       "             scoring='accuracy')"
      ]
     },
     "metadata": {},
     "execution_count": 148
    }
   ],
   "source": [
    "grid_clf = GridSearchCV(svc, param_grid=params, cv=2, scoring='accuracy')\n",
    "grid_clf.fit(X_train, y_train)"
   ]
  },
  {
   "cell_type": "code",
   "execution_count": 149,
   "metadata": {},
   "outputs": [
    {
     "output_type": "execute_result",
     "data": {
      "text/plain": [
       "GridSearchCV(cv=5, estimator=SVC(),\n",
       "             param_grid={'C': [1, 2, 3, 3.1, 3.2, 3.3, 3.4, 4, 5, 6, 7, 8, 9,\n",
       "                               10]},\n",
       "             scoring='accuracy')"
      ]
     },
     "metadata": {},
     "execution_count": 149
    }
   ],
   "source": [
    "grid_clf = GridSearchCV(svc, param_grid=params, cv=5, scoring='accuracy')\n",
    "grid_clf.fit(X_train, y_train)"
   ]
  },
  {
   "cell_type": "code",
   "execution_count": 150,
   "metadata": {},
   "outputs": [
    {
     "output_type": "stream",
     "name": "stdout",
     "text": [
      "0.9916448896631824\n{'C': 6}\n"
     ]
    }
   ],
   "source": [
    "print(grid_clf.best_score_)\n",
    "print(grid_clf.best_params_)"
   ]
  },
  {
   "cell_type": "code",
   "execution_count": 151,
   "metadata": {},
   "outputs": [
    {
     "output_type": "execute_result",
     "data": {
      "text/plain": [
       "0.9805555555555555"
      ]
     },
     "metadata": {},
     "execution_count": 151
    }
   ],
   "source": [
    "best_clf = grid_clf.best_estimator_\n",
    "pred = best_clf.predict(X_test)\n",
    "accuracy_score(y_test, pred)"
   ]
  }
 ]
}